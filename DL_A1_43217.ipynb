{
 "cells": [
  {
   "cell_type": "markdown",
   "metadata": {
    "id": "y0kQAsW-3Ppa"
   },
   "source": [
    "Name: **Megha Dandapat**<br>\n",
    "Div: **BE10**<br>\n",
    "Roll no: **43217**<br>\n",
    "Title: **Assignment 1: Study of Deep learning Packages: Tensorflow, Keras, Theano and PyTorch.\n",
    "Document the distinct features and functionality of the packages.**<br>"
   ]
  },
  {
   "cell_type": "code",
   "execution_count": 22,
   "metadata": {
    "id": "oecPSoNR3-yP"
   },
   "outputs": [],
   "source": [
    "import numpy as np"
   ]
  },
  {
   "cell_type": "markdown",
   "metadata": {
    "id": "SZ4PqakF32cQ"
   },
   "source": [
    "**1. Tensorflow**"
   ]
  },
  {
   "cell_type": "code",
   "execution_count": 23,
   "metadata": {
    "id": "6m8-7WTb3Mit"
   },
   "outputs": [],
   "source": [
    "import tensorflow as tf"
   ]
  },
  {
   "cell_type": "code",
   "execution_count": 24,
   "metadata": {
    "colab": {
     "base_uri": "https://localhost:8080/"
    },
    "id": "rDAP1sI64A_T",
    "outputId": "d7c1900f-e4c8-4636-c144-14fbe8683285"
   },
   "outputs": [
    {
     "name": "stdout",
     "output_type": "stream",
     "text": [
      "2.10.0\n"
     ]
    }
   ],
   "source": [
    "print(tf.__version__)"
   ]
  },
  {
   "cell_type": "markdown",
   "metadata": {
    "id": "6IrNy3Ek4Dtv"
   },
   "source": [
    "**2. Keras**"
   ]
  },
  {
   "cell_type": "code",
   "execution_count": 25,
   "metadata": {
    "colab": {
     "base_uri": "https://localhost:8080/"
    },
    "id": "oda3NOiV4GcJ",
    "outputId": "ffc60e3a-1a0b-4a54-9998-873ad2b5f257"
   },
   "outputs": [],
   "source": [
    "from keras import datasets\n",
    "# Load MNIST datasets from keras\n",
    "(train_images, train_labels), (test_images, test_labels) = datasets.mnist.load_data()"
   ]
  },
  {
   "cell_type": "code",
   "execution_count": 26,
   "metadata": {
    "colab": {
     "base_uri": "https://localhost:8080/"
    },
    "id": "FcugfdER4LP6",
    "outputId": "24d8e04c-aee6-446e-ac99-24de501f9706"
   },
   "outputs": [
    {
     "data": {
      "text/plain": [
       "(60000, 28, 28)"
      ]
     },
     "execution_count": 26,
     "metadata": {},
     "output_type": "execute_result"
    }
   ],
   "source": [
    "train_images.shape"
   ]
  },
  {
   "cell_type": "code",
   "execution_count": 27,
   "metadata": {
    "colab": {
     "base_uri": "https://localhost:8080/"
    },
    "id": "8cfuAeKo4OeX",
    "outputId": "6c0d9462-aa3a-4ba1-aaf5-e1191e16792d"
   },
   "outputs": [
    {
     "data": {
      "text/plain": [
       "(10000, 28, 28)"
      ]
     },
     "execution_count": 27,
     "metadata": {},
     "output_type": "execute_result"
    }
   ],
   "source": [
    "test_images.shape"
   ]
  },
  {
   "cell_type": "markdown",
   "metadata": {
    "id": "a8hDZ2mn4PRn"
   },
   "source": [
    "**3. Theano**"
   ]
  },
  {
   "cell_type": "code",
   "execution_count": 28,
   "metadata": {
    "colab": {
     "base_uri": "https://localhost:8080/"
    },
    "id": "_3g_Lsce4Q9O",
    "outputId": "c40852cb-86a4-4f47-c7e4-b003c3d746d0"
   },
   "outputs": [
    {
     "name": "stdout",
     "output_type": "stream",
     "text": [
      "Requirement already satisfied: Theano in ./anaconda3/lib/python3.8/site-packages (1.0.5)\r\n",
      "Requirement already satisfied: numpy>=1.9.1 in ./anaconda3/lib/python3.8/site-packages (from Theano) (1.20.1)\r\n",
      "Requirement already satisfied: scipy>=0.14 in ./anaconda3/lib/python3.8/site-packages (from Theano) (1.6.2)\r\n",
      "Requirement already satisfied: six>=1.9.0 in ./anaconda3/lib/python3.8/site-packages (from Theano) (1.15.0)\r\n"
     ]
    }
   ],
   "source": [
    "!pip install Theano"
   ]
  },
  {
   "cell_type": "code",
   "execution_count": 29,
   "metadata": {
    "id": "HYJwni9i4TlV"
   },
   "outputs": [],
   "source": [
    "import theano.tensor as T\n",
    "from theano import function"
   ]
  },
  {
   "cell_type": "code",
   "execution_count": 30,
   "metadata": {
    "id": "tPZzuHjF4X9L"
   },
   "outputs": [],
   "source": [
    "# Declaring 2 variables\n",
    "x = T.dscalar('x')\n",
    "y = T.dscalar('y')"
   ]
  },
  {
   "cell_type": "code",
   "execution_count": 31,
   "metadata": {
    "id": "On5RWBZ34ZlX"
   },
   "outputs": [],
   "source": [
    "# Summing up the 2 numbers\n",
    "z = x + y"
   ]
  },
  {
   "cell_type": "code",
   "execution_count": 32,
   "metadata": {
    "id": "NFE1tSdW4Z1b"
   },
   "outputs": [],
   "source": [
    "# Converting it to a callable object so that it takes matrix as parameters\n",
    "f = function([x, y], z)"
   ]
  },
  {
   "cell_type": "code",
   "execution_count": 33,
   "metadata": {
    "colab": {
     "base_uri": "https://localhost:8080/"
    },
    "id": "y4riSHJq4a9V",
    "outputId": "282c297f-a3b1-4500-e213-3fcb86c8f641"
   },
   "outputs": [
    {
     "data": {
      "text/plain": [
       "array(12.)"
      ]
     },
     "execution_count": 33,
     "metadata": {},
     "output_type": "execute_result"
    }
   ],
   "source": [
    "f(5, 7)"
   ]
  },
  {
   "cell_type": "markdown",
   "metadata": {
    "id": "H9_kUJNe4dlS"
   },
   "source": [
    "**4. PyTorch**"
   ]
  },
  {
   "cell_type": "code",
   "execution_count": 34,
   "metadata": {
    "colab": {
     "base_uri": "https://localhost:8080/"
    },
    "id": "IsiiMMbN4g7I",
    "outputId": "a32ecfcc-a1c5-4a48-a03b-c40c6525d88a"
   },
   "outputs": [
    {
     "name": "stdout",
     "output_type": "stream",
     "text": [
      "Looking in indexes: https://pypi.org/simple, https://download.pytorch.org/whl/cu115\n",
      "Requirement already satisfied: torch in ./anaconda3/lib/python3.8/site-packages (1.12.1)\n",
      "Requirement already satisfied: torchvision in ./anaconda3/lib/python3.8/site-packages (0.13.1)\n",
      "Requirement already satisfied: torchaudio in ./anaconda3/lib/python3.8/site-packages (0.12.1)\n",
      "Requirement already satisfied: typing-extensions in ./anaconda3/lib/python3.8/site-packages (from torch) (3.7.4.3)\n",
      "Requirement already satisfied: requests in ./anaconda3/lib/python3.8/site-packages (from torchvision) (2.25.1)\n",
      "Requirement already satisfied: pillow!=8.3.*,>=5.3.0 in ./anaconda3/lib/python3.8/site-packages (from torchvision) (8.2.0)\n",
      "Requirement already satisfied: numpy in ./anaconda3/lib/python3.8/site-packages (from torchvision) (1.20.1)\n",
      "Requirement already satisfied: chardet<5,>=3.0.2 in ./anaconda3/lib/python3.8/site-packages (from requests->torchvision) (4.0.0)\n",
      "Requirement already satisfied: idna<3,>=2.5 in ./anaconda3/lib/python3.8/site-packages (from requests->torchvision) (2.10)\n",
      "Requirement already satisfied: urllib3<1.27,>=1.21.1 in ./anaconda3/lib/python3.8/site-packages (from requests->torchvision) (1.26.4)\n",
      "Requirement already satisfied: certifi>=2017.4.17 in ./anaconda3/lib/python3.8/site-packages (from requests->torchvision) (2020.12.5)\n"
     ]
    }
   ],
   "source": [
    "!pip3 install torch torchvision torchaudio --extra-index-url https://download.pytorch.org/whl/cu115"
   ]
  },
  {
   "cell_type": "code",
   "execution_count": 35,
   "metadata": {
    "id": "cju81-Qq4mXs"
   },
   "outputs": [],
   "source": [
    "import torch\n",
    "import torch.nn as nn"
   ]
  },
  {
   "cell_type": "code",
   "execution_count": 36,
   "metadata": {
    "colab": {
     "base_uri": "https://localhost:8080/"
    },
    "id": "v8Pa1fuw4o5z",
    "outputId": "3493f5e4-2780-4a88-e54a-e9215a0ab46e"
   },
   "outputs": [
    {
     "name": "stdout",
     "output_type": "stream",
     "text": [
      "1.12.1+cu102\n"
     ]
    }
   ],
   "source": [
    "print(torch.__version__)"
   ]
  },
  {
   "cell_type": "code",
   "execution_count": 37,
   "metadata": {
    "colab": {
     "base_uri": "https://localhost:8080/"
    },
    "id": "qCfnunlg4pKW",
    "outputId": "1c942374-dec0-4088-aa80-9da85c042415"
   },
   "outputs": [
    {
     "data": {
      "text/plain": [
       "False"
      ]
     },
     "execution_count": 37,
     "metadata": {},
     "output_type": "execute_result"
    }
   ],
   "source": [
    "torch.cuda.is_available()"
   ]
  }
 ],
 "metadata": {
  "colab": {
   "collapsed_sections": [],
   "provenance": []
  },
  "kernelspec": {
   "display_name": "Python 3",
   "language": "python",
   "name": "python3"
  },
  "language_info": {
   "codemirror_mode": {
    "name": "ipython",
    "version": 3
   },
   "file_extension": ".py",
   "mimetype": "text/x-python",
   "name": "python",
   "nbconvert_exporter": "python",
   "pygments_lexer": "ipython3",
   "version": "3.8.8"
  }
 },
 "nbformat": 4,
 "nbformat_minor": 1
}
