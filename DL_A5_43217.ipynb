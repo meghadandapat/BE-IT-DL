{
 "cells": [
  {
   "cell_type": "markdown",
   "metadata": {
    "id": "i_GcJlVrDgBk"
   },
   "source": [
    "Name: **Megha Dandapat**<br>\n",
    "Div: **BE10**<br>\n",
    "Roll no: **43217**<br>\n",
    "Title: **Assignment 5: Implement the Continuous Bag of Words (CBOW) Model**<br>"
   ]
  },
  {
   "cell_type": "code",
   "execution_count": 1,
   "metadata": {
    "id": "V51q50EbF-T9"
   },
   "outputs": [],
   "source": [
    "#importing libraries\n",
    "from keras.preprocessing import text\n",
    "from keras.utils import np_utils\n",
    "from keras.preprocessing import sequence\n",
    "from keras.utils import pad_sequences\n",
    "import numpy as np\n",
    "import pandas as pd"
   ]
  },
  {
   "cell_type": "code",
   "execution_count": 2,
   "metadata": {
    "id": "wBUwYdBJElVz"
   },
   "outputs": [],
   "source": [
    "#taking random sentences as data\n",
    "data = \"\"\"Deep learning (also known as deep structured learning) is part of a broader family of machine learning methods based on artificial neural networks with representation learning. Learning can be supervised, semi-supervised or unsupervised. \n",
    "Deep-learning architectures such as deep neural networks, deep belief networks, deep reinforcement learning, recurrent neural networks, convolutional neural networks and Transformers have been applied to fields including computer vision, speech recognition, natural language processing, machine translation, bioinformatics, drug design, medical image analysis, climate science, material inspection and board game programs, where they have produced results comparable to and in some cases surpassing human expert performance.\n",
    "\"\"\"\n",
    "dl_data = data.split()"
   ]
  },
  {
   "cell_type": "code",
   "execution_count": 3,
   "metadata": {
    "colab": {
     "base_uri": "https://localhost:8080/"
    },
    "id": "celNk9LmEvm8",
    "outputId": "4e2143b6-92dc-452f-f468-7c9e6238e287"
   },
   "outputs": [
    {
     "name": "stdout",
     "output_type": "stream",
     "text": [
      "Vocabulary Size: 75\n",
      "Vocabulary Sample: [('learning', 1), ('deep', 2), ('networks', 3), ('neural', 4), ('and', 5), ('as', 6), ('of', 7), ('machine', 8), ('supervised', 9), ('have', 10)]\n"
     ]
    }
   ],
   "source": [
    "#tokenization\n",
    "tokenizer = text.Tokenizer()\n",
    "tokenizer.fit_on_texts(dl_data)\n",
    "word2id = tokenizer.word_index\n",
    "\n",
    "word2id['PAD'] = 0\n",
    "id2word = {v:k for k, v in word2id.items()}\n",
    "wids = [[word2id[w] for w in text.text_to_word_sequence(doc)] for doc in dl_data]\n",
    "\n",
    "vocab_size = len(word2id)\n",
    "embed_size = 100\n",
    "window_size = 2 \n",
    "\n",
    "print('Vocabulary Size:', vocab_size)\n",
    "print('Vocabulary Sample:', list(word2id.items())[:10])"
   ]
  },
  {
   "cell_type": "code",
   "execution_count": 4,
   "metadata": {
    "id": "AAxNYDanInQC"
   },
   "outputs": [],
   "source": [
    "#generating (context word, target/label word) pairs\n",
    "def generate_context_word_pairs(corpus, window_size, vocab_size):\n",
    "    context_length = window_size*2\n",
    "    for words in corpus:\n",
    "        sentence_length = len(words)\n",
    "        for index, word in enumerate(words):\n",
    "            context_words = []\n",
    "            label_word   = []            \n",
    "            start = index - window_size\n",
    "            end = index + window_size + 1\n",
    "            \n",
    "            context_words.append([words[i] \n",
    "                                 for i in range(start, end) \n",
    "                                 if 0 <= i < sentence_length \n",
    "                                 and i != index])\n",
    "            label_word.append(word)\n",
    "\n",
    "            x = pad_sequences(context_words, maxlen=context_length)\n",
    "            y = np_utils.to_categorical(label_word, vocab_size)\n",
    "            yield (x, y)\n",
    "            \n",
    "i = 0\n",
    "for x, y in generate_context_word_pairs(corpus=wids, window_size=window_size, vocab_size=vocab_size):\n",
    "    if 0 not in x[0]:\n",
    "        # print('Context (X):', [id2word[w] for w in x[0]], '-> Target (Y):', id2word[np.argwhere(y[0])[0][0]])\n",
    "    \n",
    "        if i == 10:\n",
    "            break\n",
    "        i += 1"
   ]
  },
  {
   "cell_type": "code",
   "execution_count": 5,
   "metadata": {
    "colab": {
     "base_uri": "https://localhost:8080/"
    },
    "id": "Rb5dNmoZKZBv",
    "outputId": "b859c07e-6989-420d-b169-8aa0b93ff367"
   },
   "outputs": [
    {
     "name": "stdout",
     "output_type": "stream",
     "text": [
      "Model: \"sequential\"\n",
      "_________________________________________________________________\n",
      " Layer (type)                Output Shape              Param #   \n",
      "=================================================================\n",
      " embedding (Embedding)       (None, 4, 100)            7500      \n",
      "                                                                 \n",
      " lambda (Lambda)             (None, 100)               0         \n",
      "                                                                 \n",
      " dense (Dense)               (None, 75)                7575      \n",
      "                                                                 \n",
      "=================================================================\n",
      "Total params: 15,075\n",
      "Trainable params: 15,075\n",
      "Non-trainable params: 0\n",
      "_________________________________________________________________\n",
      "None\n"
     ]
    }
   ],
   "source": [
    "#model building\n",
    "import keras.backend as K\n",
    "from keras.models import Sequential\n",
    "from keras.layers import Dense, Embedding, Lambda\n",
    "\n",
    "cbow = Sequential()\n",
    "cbow.add(Embedding(input_dim=vocab_size, output_dim=embed_size, input_length=window_size*2))\n",
    "cbow.add(Lambda(lambda x: K.mean(x, axis=1), output_shape=(embed_size,)))\n",
    "cbow.add(Dense(vocab_size, activation='softmax'))\n",
    "cbow.compile(loss='categorical_crossentropy', optimizer='rmsprop')\n",
    "\n",
    "print(cbow.summary())\n",
    "\n",
    "# from IPython.display import SVG\n",
    "# from keras.utils.vis_utils import model_to_dot\n",
    "\n",
    "# SVG(model_to_dot(cbow, show_shapes=True, show_layer_names=False, rankdir='TB').create(prog='dot', format='svg'))"
   ]
  },
  {
   "cell_type": "code",
   "execution_count": 6,
   "metadata": {
    "colab": {
     "base_uri": "https://localhost:8080/"
    },
    "id": "xs12C3MDK1q4",
    "outputId": "fe8783b3-0ee1-4286-be40-6713afa14f9c"
   },
   "outputs": [
    {
     "name": "stdout",
     "output_type": "stream",
     "text": [
      "Epoch: 1 \tLoss: 434.25498819351196\n",
      "\n",
      "Epoch: 2 \tLoss: 429.4643859863281\n",
      "\n",
      "Epoch: 3 \tLoss: 425.9828131198883\n",
      "\n",
      "Epoch: 4 \tLoss: 422.5625567436218\n",
      "\n",
      "Epoch: 5 \tLoss: 419.90111088752747\n",
      "\n"
     ]
    }
   ],
   "source": [
    "for epoch in range(1, 6):\n",
    "    loss = 0.\n",
    "    i = 0\n",
    "    for x, y in generate_context_word_pairs(corpus=wids, window_size=window_size, vocab_size=vocab_size):\n",
    "        i += 1\n",
    "        loss += cbow.train_on_batch(x, y)\n",
    "        if i % 100000 == 0:\n",
    "            print('Processed {} (context, word) pairs'.format(i))\n",
    "\n",
    "    print('Epoch:', epoch, '\\tLoss:', loss)\n",
    "    print()"
   ]
  },
  {
   "cell_type": "code",
   "execution_count": 7,
   "metadata": {
    "colab": {
     "base_uri": "https://localhost:8080/",
     "height": 253
    },
    "id": "TZ3_QGKVK6Tj",
    "outputId": "cd9d167a-85a3-4cc9-eccb-faf997526122"
   },
   "outputs": [
    {
     "name": "stdout",
     "output_type": "stream",
     "text": [
      "(74, 100)\n"
     ]
    },
    {
     "data": {
      "text/html": [
       "<div>\n",
       "<style scoped>\n",
       "    .dataframe tbody tr th:only-of-type {\n",
       "        vertical-align: middle;\n",
       "    }\n",
       "\n",
       "    .dataframe tbody tr th {\n",
       "        vertical-align: top;\n",
       "    }\n",
       "\n",
       "    .dataframe thead th {\n",
       "        text-align: right;\n",
       "    }\n",
       "</style>\n",
       "<table border=\"1\" class=\"dataframe\">\n",
       "  <thead>\n",
       "    <tr style=\"text-align: right;\">\n",
       "      <th></th>\n",
       "      <th>0</th>\n",
       "      <th>1</th>\n",
       "      <th>2</th>\n",
       "      <th>3</th>\n",
       "      <th>4</th>\n",
       "      <th>5</th>\n",
       "      <th>6</th>\n",
       "      <th>7</th>\n",
       "      <th>8</th>\n",
       "      <th>9</th>\n",
       "      <th>...</th>\n",
       "      <th>90</th>\n",
       "      <th>91</th>\n",
       "      <th>92</th>\n",
       "      <th>93</th>\n",
       "      <th>94</th>\n",
       "      <th>95</th>\n",
       "      <th>96</th>\n",
       "      <th>97</th>\n",
       "      <th>98</th>\n",
       "      <th>99</th>\n",
       "    </tr>\n",
       "  </thead>\n",
       "  <tbody>\n",
       "    <tr>\n",
       "      <th>deep</th>\n",
       "      <td>-0.045044</td>\n",
       "      <td>-0.017268</td>\n",
       "      <td>0.060394</td>\n",
       "      <td>0.065156</td>\n",
       "      <td>-0.027416</td>\n",
       "      <td>0.007988</td>\n",
       "      <td>0.029677</td>\n",
       "      <td>-0.059350</td>\n",
       "      <td>-0.046789</td>\n",
       "      <td>0.033663</td>\n",
       "      <td>...</td>\n",
       "      <td>-0.054099</td>\n",
       "      <td>0.000454</td>\n",
       "      <td>0.021796</td>\n",
       "      <td>0.009631</td>\n",
       "      <td>0.010623</td>\n",
       "      <td>0.052184</td>\n",
       "      <td>0.000132</td>\n",
       "      <td>0.030548</td>\n",
       "      <td>0.050443</td>\n",
       "      <td>0.020763</td>\n",
       "    </tr>\n",
       "    <tr>\n",
       "      <th>networks</th>\n",
       "      <td>-0.031338</td>\n",
       "      <td>0.019304</td>\n",
       "      <td>0.036542</td>\n",
       "      <td>0.024140</td>\n",
       "      <td>0.049832</td>\n",
       "      <td>0.020948</td>\n",
       "      <td>-0.015103</td>\n",
       "      <td>-0.060307</td>\n",
       "      <td>-0.020031</td>\n",
       "      <td>-0.049904</td>\n",
       "      <td>...</td>\n",
       "      <td>-0.012346</td>\n",
       "      <td>-0.000965</td>\n",
       "      <td>0.023927</td>\n",
       "      <td>0.027974</td>\n",
       "      <td>0.065025</td>\n",
       "      <td>0.051286</td>\n",
       "      <td>0.005138</td>\n",
       "      <td>-0.009694</td>\n",
       "      <td>0.037590</td>\n",
       "      <td>0.038664</td>\n",
       "    </tr>\n",
       "    <tr>\n",
       "      <th>neural</th>\n",
       "      <td>-0.032331</td>\n",
       "      <td>0.025828</td>\n",
       "      <td>0.004770</td>\n",
       "      <td>-0.049651</td>\n",
       "      <td>-0.023772</td>\n",
       "      <td>-0.027062</td>\n",
       "      <td>0.010318</td>\n",
       "      <td>0.030559</td>\n",
       "      <td>-0.041404</td>\n",
       "      <td>0.035227</td>\n",
       "      <td>...</td>\n",
       "      <td>0.037959</td>\n",
       "      <td>0.030453</td>\n",
       "      <td>0.007226</td>\n",
       "      <td>-0.034287</td>\n",
       "      <td>-0.048300</td>\n",
       "      <td>-0.014007</td>\n",
       "      <td>-0.026854</td>\n",
       "      <td>0.011582</td>\n",
       "      <td>0.020539</td>\n",
       "      <td>-0.019273</td>\n",
       "    </tr>\n",
       "    <tr>\n",
       "      <th>and</th>\n",
       "      <td>0.018358</td>\n",
       "      <td>0.016670</td>\n",
       "      <td>0.002335</td>\n",
       "      <td>-0.045956</td>\n",
       "      <td>-0.032968</td>\n",
       "      <td>-0.006140</td>\n",
       "      <td>-0.018911</td>\n",
       "      <td>0.012067</td>\n",
       "      <td>0.028296</td>\n",
       "      <td>-0.013678</td>\n",
       "      <td>...</td>\n",
       "      <td>-0.000141</td>\n",
       "      <td>-0.017629</td>\n",
       "      <td>0.001461</td>\n",
       "      <td>-0.020397</td>\n",
       "      <td>-0.048641</td>\n",
       "      <td>-0.017037</td>\n",
       "      <td>-0.039733</td>\n",
       "      <td>-0.019943</td>\n",
       "      <td>-0.015549</td>\n",
       "      <td>0.007661</td>\n",
       "    </tr>\n",
       "    <tr>\n",
       "      <th>as</th>\n",
       "      <td>0.006003</td>\n",
       "      <td>0.036865</td>\n",
       "      <td>-0.038903</td>\n",
       "      <td>-0.048006</td>\n",
       "      <td>-0.015290</td>\n",
       "      <td>0.046790</td>\n",
       "      <td>-0.032430</td>\n",
       "      <td>0.013445</td>\n",
       "      <td>0.037983</td>\n",
       "      <td>0.040861</td>\n",
       "      <td>...</td>\n",
       "      <td>-0.007905</td>\n",
       "      <td>-0.039223</td>\n",
       "      <td>0.017629</td>\n",
       "      <td>-0.038971</td>\n",
       "      <td>-0.018566</td>\n",
       "      <td>-0.043472</td>\n",
       "      <td>-0.003168</td>\n",
       "      <td>0.042389</td>\n",
       "      <td>0.001800</td>\n",
       "      <td>-0.030842</td>\n",
       "    </tr>\n",
       "  </tbody>\n",
       "</table>\n",
       "<p>5 rows × 100 columns</p>\n",
       "</div>"
      ],
      "text/plain": [
       "                0         1         2         3         4         5   \\\n",
       "deep     -0.045044 -0.017268  0.060394  0.065156 -0.027416  0.007988   \n",
       "networks -0.031338  0.019304  0.036542  0.024140  0.049832  0.020948   \n",
       "neural   -0.032331  0.025828  0.004770 -0.049651 -0.023772 -0.027062   \n",
       "and       0.018358  0.016670  0.002335 -0.045956 -0.032968 -0.006140   \n",
       "as        0.006003  0.036865 -0.038903 -0.048006 -0.015290  0.046790   \n",
       "\n",
       "                6         7         8         9   ...        90        91  \\\n",
       "deep      0.029677 -0.059350 -0.046789  0.033663  ... -0.054099  0.000454   \n",
       "networks -0.015103 -0.060307 -0.020031 -0.049904  ... -0.012346 -0.000965   \n",
       "neural    0.010318  0.030559 -0.041404  0.035227  ...  0.037959  0.030453   \n",
       "and      -0.018911  0.012067  0.028296 -0.013678  ... -0.000141 -0.017629   \n",
       "as       -0.032430  0.013445  0.037983  0.040861  ... -0.007905 -0.039223   \n",
       "\n",
       "                92        93        94        95        96        97  \\\n",
       "deep      0.021796  0.009631  0.010623  0.052184  0.000132  0.030548   \n",
       "networks  0.023927  0.027974  0.065025  0.051286  0.005138 -0.009694   \n",
       "neural    0.007226 -0.034287 -0.048300 -0.014007 -0.026854  0.011582   \n",
       "and       0.001461 -0.020397 -0.048641 -0.017037 -0.039733 -0.019943   \n",
       "as        0.017629 -0.038971 -0.018566 -0.043472 -0.003168  0.042389   \n",
       "\n",
       "                98        99  \n",
       "deep      0.050443  0.020763  \n",
       "networks  0.037590  0.038664  \n",
       "neural    0.020539 -0.019273  \n",
       "and      -0.015549  0.007661  \n",
       "as        0.001800 -0.030842  \n",
       "\n",
       "[5 rows x 100 columns]"
      ]
     },
     "execution_count": 7,
     "metadata": {},
     "output_type": "execute_result"
    }
   ],
   "source": [
    "weights = cbow.get_weights()[0]\n",
    "weights = weights[1:]\n",
    "print(weights.shape)\n",
    "\n",
    "pd.DataFrame(weights, index=list(id2word.values())[1:]).head()"
   ]
  },
  {
   "cell_type": "code",
   "execution_count": 8,
   "metadata": {
    "colab": {
     "base_uri": "https://localhost:8080/"
    },
    "id": "UFs2IAn_LAYS",
    "outputId": "87ae1249-6a80-484f-b4a2-4d5f20734db7"
   },
   "outputs": [
    {
     "name": "stdout",
     "output_type": "stream",
     "text": [
      "(74, 74)\n"
     ]
    },
    {
     "data": {
      "text/plain": [
       "{'deep': ['in', 'such', 'processing', 'convolutional', 'expert']}"
      ]
     },
     "execution_count": 8,
     "metadata": {},
     "output_type": "execute_result"
    }
   ],
   "source": [
    "from sklearn.metrics.pairwise import euclidean_distances\n",
    "\n",
    "distance_matrix = euclidean_distances(weights)\n",
    "print(distance_matrix.shape)\n",
    "\n",
    "similar_words = {search_term: [id2word[idx] for idx in distance_matrix[word2id[search_term]-1].argsort()[1:6]+1] \n",
    "                   for search_term in ['deep']}\n",
    "\n",
    "similar_words"
   ]
  },
  {
   "cell_type": "code",
   "execution_count": null,
   "metadata": {},
   "outputs": [],
   "source": []
  },
  {
   "cell_type": "code",
   "execution_count": null,
   "metadata": {},
   "outputs": [],
   "source": []
  },
  {
   "cell_type": "code",
   "execution_count": null,
   "metadata": {},
   "outputs": [],
   "source": []
  },
  {
   "cell_type": "code",
   "execution_count": null,
   "metadata": {},
   "outputs": [],
   "source": []
  }
 ],
 "metadata": {
  "colab": {
   "collapsed_sections": [],
   "provenance": []
  },
  "kernelspec": {
   "display_name": "Python 3",
   "language": "python",
   "name": "python3"
  },
  "language_info": {
   "codemirror_mode": {
    "name": "ipython",
    "version": 3
   },
   "file_extension": ".py",
   "mimetype": "text/x-python",
   "name": "python",
   "nbconvert_exporter": "python",
   "pygments_lexer": "ipython3",
   "version": "3.8.8"
  }
 },
 "nbformat": 4,
 "nbformat_minor": 1
}
